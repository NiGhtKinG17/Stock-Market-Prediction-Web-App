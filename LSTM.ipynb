{
 "cells": [
  {
   "cell_type": "code",
   "execution_count": 1,
   "id": "970e8b05",
   "metadata": {},
   "outputs": [],
   "source": [
    "import numpy as np\n",
    "import pandas as pd\n",
    "import matplotlib.pyplot as plt\n",
    "import pandas_datareader as data"
   ]
  },
  {
   "cell_type": "code",
   "execution_count": 2,
   "id": "6b8bce72",
   "metadata": {},
   "outputs": [
    {
     "data": {
      "text/html": [
       "<div>\n",
       "<style scoped>\n",
       "    .dataframe tbody tr th:only-of-type {\n",
       "        vertical-align: middle;\n",
       "    }\n",
       "\n",
       "    .dataframe tbody tr th {\n",
       "        vertical-align: top;\n",
       "    }\n",
       "\n",
       "    .dataframe thead th {\n",
       "        text-align: right;\n",
       "    }\n",
       "</style>\n",
       "<table border=\"1\" class=\"dataframe\">\n",
       "  <thead>\n",
       "    <tr style=\"text-align: right;\">\n",
       "      <th></th>\n",
       "      <th>High</th>\n",
       "      <th>Low</th>\n",
       "      <th>Open</th>\n",
       "      <th>Close</th>\n",
       "      <th>Volume</th>\n",
       "      <th>Adj Close</th>\n",
       "    </tr>\n",
       "    <tr>\n",
       "      <th>Date</th>\n",
       "      <th></th>\n",
       "      <th></th>\n",
       "      <th></th>\n",
       "      <th></th>\n",
       "      <th></th>\n",
       "      <th></th>\n",
       "    </tr>\n",
       "  </thead>\n",
       "  <tbody>\n",
       "    <tr>\n",
       "      <th>2010-12-31</th>\n",
       "      <td>11.552857</td>\n",
       "      <td>11.475357</td>\n",
       "      <td>11.533929</td>\n",
       "      <td>11.520000</td>\n",
       "      <td>193508000.0</td>\n",
       "      <td>9.864281</td>\n",
       "    </tr>\n",
       "    <tr>\n",
       "      <th>2011-01-03</th>\n",
       "      <td>11.795000</td>\n",
       "      <td>11.601429</td>\n",
       "      <td>11.630000</td>\n",
       "      <td>11.770357</td>\n",
       "      <td>445138400.0</td>\n",
       "      <td>10.078656</td>\n",
       "    </tr>\n",
       "    <tr>\n",
       "      <th>2011-01-04</th>\n",
       "      <td>11.875000</td>\n",
       "      <td>11.719643</td>\n",
       "      <td>11.872857</td>\n",
       "      <td>11.831786</td>\n",
       "      <td>309080800.0</td>\n",
       "      <td>10.131254</td>\n",
       "    </tr>\n",
       "    <tr>\n",
       "      <th>2011-01-05</th>\n",
       "      <td>11.940714</td>\n",
       "      <td>11.767857</td>\n",
       "      <td>11.769643</td>\n",
       "      <td>11.928571</td>\n",
       "      <td>255519600.0</td>\n",
       "      <td>10.214127</td>\n",
       "    </tr>\n",
       "    <tr>\n",
       "      <th>2011-01-06</th>\n",
       "      <td>11.973214</td>\n",
       "      <td>11.889286</td>\n",
       "      <td>11.954286</td>\n",
       "      <td>11.918929</td>\n",
       "      <td>300428800.0</td>\n",
       "      <td>10.205874</td>\n",
       "    </tr>\n",
       "  </tbody>\n",
       "</table>\n",
       "</div>"
      ],
      "text/plain": [
       "                 High        Low       Open      Close       Volume  Adj Close\n",
       "Date                                                                          \n",
       "2010-12-31  11.552857  11.475357  11.533929  11.520000  193508000.0   9.864281\n",
       "2011-01-03  11.795000  11.601429  11.630000  11.770357  445138400.0  10.078656\n",
       "2011-01-04  11.875000  11.719643  11.872857  11.831786  309080800.0  10.131254\n",
       "2011-01-05  11.940714  11.767857  11.769643  11.928571  255519600.0  10.214127\n",
       "2011-01-06  11.973214  11.889286  11.954286  11.918929  300428800.0  10.205874"
      ]
     },
     "execution_count": 2,
     "metadata": {},
     "output_type": "execute_result"
    }
   ],
   "source": [
    "start = '2011-01-01'\n",
    "end = '2021-12-31'\n",
    "\n",
    "df = data.DataReader('AAPL', 'yahoo', start, end)\n",
    "df.head()"
   ]
  },
  {
   "cell_type": "code",
   "execution_count": 3,
   "id": "2810f142",
   "metadata": {},
   "outputs": [
    {
     "data": {
      "text/html": [
       "<div>\n",
       "<style scoped>\n",
       "    .dataframe tbody tr th:only-of-type {\n",
       "        vertical-align: middle;\n",
       "    }\n",
       "\n",
       "    .dataframe tbody tr th {\n",
       "        vertical-align: top;\n",
       "    }\n",
       "\n",
       "    .dataframe thead th {\n",
       "        text-align: right;\n",
       "    }\n",
       "</style>\n",
       "<table border=\"1\" class=\"dataframe\">\n",
       "  <thead>\n",
       "    <tr style=\"text-align: right;\">\n",
       "      <th></th>\n",
       "      <th>High</th>\n",
       "      <th>Low</th>\n",
       "      <th>Open</th>\n",
       "      <th>Close</th>\n",
       "      <th>Volume</th>\n",
       "      <th>Adj Close</th>\n",
       "    </tr>\n",
       "    <tr>\n",
       "      <th>Date</th>\n",
       "      <th></th>\n",
       "      <th></th>\n",
       "      <th></th>\n",
       "      <th></th>\n",
       "      <th></th>\n",
       "      <th></th>\n",
       "    </tr>\n",
       "  </thead>\n",
       "  <tbody>\n",
       "    <tr>\n",
       "      <th>2021-12-27</th>\n",
       "      <td>180.419998</td>\n",
       "      <td>177.070007</td>\n",
       "      <td>177.089996</td>\n",
       "      <td>180.330002</td>\n",
       "      <td>74919600.0</td>\n",
       "      <td>180.100540</td>\n",
       "    </tr>\n",
       "    <tr>\n",
       "      <th>2021-12-28</th>\n",
       "      <td>181.330002</td>\n",
       "      <td>178.529999</td>\n",
       "      <td>180.160004</td>\n",
       "      <td>179.289993</td>\n",
       "      <td>79144300.0</td>\n",
       "      <td>179.061859</td>\n",
       "    </tr>\n",
       "    <tr>\n",
       "      <th>2021-12-29</th>\n",
       "      <td>180.630005</td>\n",
       "      <td>178.139999</td>\n",
       "      <td>179.330002</td>\n",
       "      <td>179.380005</td>\n",
       "      <td>62348900.0</td>\n",
       "      <td>179.151749</td>\n",
       "    </tr>\n",
       "    <tr>\n",
       "      <th>2021-12-30</th>\n",
       "      <td>180.570007</td>\n",
       "      <td>178.089996</td>\n",
       "      <td>179.470001</td>\n",
       "      <td>178.199997</td>\n",
       "      <td>59773000.0</td>\n",
       "      <td>177.973251</td>\n",
       "    </tr>\n",
       "    <tr>\n",
       "      <th>2021-12-31</th>\n",
       "      <td>179.229996</td>\n",
       "      <td>177.259995</td>\n",
       "      <td>178.089996</td>\n",
       "      <td>177.570007</td>\n",
       "      <td>64062300.0</td>\n",
       "      <td>177.344055</td>\n",
       "    </tr>\n",
       "  </tbody>\n",
       "</table>\n",
       "</div>"
      ],
      "text/plain": [
       "                  High         Low        Open       Close      Volume  \\\n",
       "Date                                                                     \n",
       "2021-12-27  180.419998  177.070007  177.089996  180.330002  74919600.0   \n",
       "2021-12-28  181.330002  178.529999  180.160004  179.289993  79144300.0   \n",
       "2021-12-29  180.630005  178.139999  179.330002  179.380005  62348900.0   \n",
       "2021-12-30  180.570007  178.089996  179.470001  178.199997  59773000.0   \n",
       "2021-12-31  179.229996  177.259995  178.089996  177.570007  64062300.0   \n",
       "\n",
       "             Adj Close  \n",
       "Date                    \n",
       "2021-12-27  180.100540  \n",
       "2021-12-28  179.061859  \n",
       "2021-12-29  179.151749  \n",
       "2021-12-30  177.973251  \n",
       "2021-12-31  177.344055  "
      ]
     },
     "execution_count": 3,
     "metadata": {},
     "output_type": "execute_result"
    }
   ],
   "source": [
    "df.tail()"
   ]
  },
  {
   "cell_type": "code",
   "execution_count": 4,
   "id": "1612fe78",
   "metadata": {},
   "outputs": [],
   "source": [
    "df.reset_index(inplace=True)"
   ]
  },
  {
   "cell_type": "code",
   "execution_count": 5,
   "id": "678136e3",
   "metadata": {},
   "outputs": [
    {
     "data": {
      "text/html": [
       "<div>\n",
       "<style scoped>\n",
       "    .dataframe tbody tr th:only-of-type {\n",
       "        vertical-align: middle;\n",
       "    }\n",
       "\n",
       "    .dataframe tbody tr th {\n",
       "        vertical-align: top;\n",
       "    }\n",
       "\n",
       "    .dataframe thead th {\n",
       "        text-align: right;\n",
       "    }\n",
       "</style>\n",
       "<table border=\"1\" class=\"dataframe\">\n",
       "  <thead>\n",
       "    <tr style=\"text-align: right;\">\n",
       "      <th></th>\n",
       "      <th>Date</th>\n",
       "      <th>High</th>\n",
       "      <th>Low</th>\n",
       "      <th>Open</th>\n",
       "      <th>Close</th>\n",
       "      <th>Volume</th>\n",
       "      <th>Adj Close</th>\n",
       "    </tr>\n",
       "  </thead>\n",
       "  <tbody>\n",
       "    <tr>\n",
       "      <th>0</th>\n",
       "      <td>2010-12-31</td>\n",
       "      <td>11.552857</td>\n",
       "      <td>11.475357</td>\n",
       "      <td>11.533929</td>\n",
       "      <td>11.520000</td>\n",
       "      <td>193508000.0</td>\n",
       "      <td>9.864281</td>\n",
       "    </tr>\n",
       "    <tr>\n",
       "      <th>1</th>\n",
       "      <td>2011-01-03</td>\n",
       "      <td>11.795000</td>\n",
       "      <td>11.601429</td>\n",
       "      <td>11.630000</td>\n",
       "      <td>11.770357</td>\n",
       "      <td>445138400.0</td>\n",
       "      <td>10.078656</td>\n",
       "    </tr>\n",
       "    <tr>\n",
       "      <th>2</th>\n",
       "      <td>2011-01-04</td>\n",
       "      <td>11.875000</td>\n",
       "      <td>11.719643</td>\n",
       "      <td>11.872857</td>\n",
       "      <td>11.831786</td>\n",
       "      <td>309080800.0</td>\n",
       "      <td>10.131254</td>\n",
       "    </tr>\n",
       "    <tr>\n",
       "      <th>3</th>\n",
       "      <td>2011-01-05</td>\n",
       "      <td>11.940714</td>\n",
       "      <td>11.767857</td>\n",
       "      <td>11.769643</td>\n",
       "      <td>11.928571</td>\n",
       "      <td>255519600.0</td>\n",
       "      <td>10.214127</td>\n",
       "    </tr>\n",
       "    <tr>\n",
       "      <th>4</th>\n",
       "      <td>2011-01-06</td>\n",
       "      <td>11.973214</td>\n",
       "      <td>11.889286</td>\n",
       "      <td>11.954286</td>\n",
       "      <td>11.918929</td>\n",
       "      <td>300428800.0</td>\n",
       "      <td>10.205874</td>\n",
       "    </tr>\n",
       "  </tbody>\n",
       "</table>\n",
       "</div>"
      ],
      "text/plain": [
       "        Date       High        Low       Open      Close       Volume  \\\n",
       "0 2010-12-31  11.552857  11.475357  11.533929  11.520000  193508000.0   \n",
       "1 2011-01-03  11.795000  11.601429  11.630000  11.770357  445138400.0   \n",
       "2 2011-01-04  11.875000  11.719643  11.872857  11.831786  309080800.0   \n",
       "3 2011-01-05  11.940714  11.767857  11.769643  11.928571  255519600.0   \n",
       "4 2011-01-06  11.973214  11.889286  11.954286  11.918929  300428800.0   \n",
       "\n",
       "   Adj Close  \n",
       "0   9.864281  \n",
       "1  10.078656  \n",
       "2  10.131254  \n",
       "3  10.214127  \n",
       "4  10.205874  "
      ]
     },
     "execution_count": 5,
     "metadata": {},
     "output_type": "execute_result"
    }
   ],
   "source": [
    "df.head()"
   ]
  },
  {
   "cell_type": "code",
   "execution_count": 6,
   "id": "f67cb35e",
   "metadata": {},
   "outputs": [],
   "source": [
    "df.drop(['Date', 'Adj Close'], axis=1, inplace=True)"
   ]
  },
  {
   "cell_type": "code",
   "execution_count": 7,
   "id": "2762dd76",
   "metadata": {},
   "outputs": [
    {
     "data": {
      "text/plain": [
       "[<matplotlib.lines.Line2D at 0x15be9590af0>]"
      ]
     },
     "execution_count": 7,
     "metadata": {},
     "output_type": "execute_result"
    },
    {
     "data": {
      "image/png": "[encoded data removed]",
      "text/plain": [
       "<Figure size 432x288 with 1 Axes>"
      ]
     },
     "metadata": {
      "needs_background": "light"
     },
     "output_type": "display_data"
    }
   ],
   "source": [
    "plt.plot(df.Close)"
   ]
  },
  {
   "cell_type": "code",
   "execution_count": 8,
   "id": "929bfb24",
   "metadata": {},
   "outputs": [],
   "source": [
    "avg100 = df.Close.rolling(100).mean()"
   ]
  },
  {
   "cell_type": "code",
   "execution_count": 9,
   "id": "15b24413",
   "metadata": {},
   "outputs": [
    {
     "data": {
      "text/plain": [
       "0            NaN\n",
       "1            NaN\n",
       "2            NaN\n",
       "3            NaN\n",
       "4            NaN\n",
       "          ...   \n",
       "2765    153.3444\n",
       "2766    153.6667\n",
       "2767    153.9991\n",
       "2768    154.3202\n",
       "2769    154.6399\n",
       "Name: Close, Length: 2770, dtype: float64"
      ]
     },
     "execution_count": 9,
     "metadata": {},
     "output_type": "execute_result"
    }
   ],
   "source": [
    "avg100"
   ]
  },
  {
   "cell_type": "code",
   "execution_count": 10,
   "id": "5ea5e9d8",
   "metadata": {},
   "outputs": [
    {
     "data": {
      "text/plain": [
       "[<matplotlib.lines.Line2D at 0x15be948bcd0>]"
      ]
     },
     "execution_count": 10,
     "metadata": {},
     "output_type": "execute_result"
    },
    {
     "data": {
      "image/png": "[encoded data removed]",
      "text/plain": [
       "<Figure size 864x432 with 1 Axes>"
      ]
     },
     "metadata": {
      "needs_background": "light"
     },
     "output_type": "display_data"
    }
   ],
   "source": [
    "plt.figure(figsize=(12,6))\n",
    "plt.plot(df.Close)\n",
    "plt.plot(avg100, 'r')"
   ]
  },
  {
   "cell_type": "code",
   "execution_count": 11,
   "id": "94fa7e31",
   "metadata": {},
   "outputs": [],
   "source": [
    "avg200 = df.Close.rolling(200).mean()"
   ]
  },
  {
   "cell_type": "code",
   "execution_count": 12,
   "id": "54f77d9c",
   "metadata": {},
   "outputs": [
    {
     "data": {
      "text/plain": [
       "[<matplotlib.lines.Line2D at 0x15be9577d90>]"
      ]
     },
     "execution_count": 12,
     "metadata": {},
     "output_type": "execute_result"
    },
    {
     "data": {
      "image/png": "[encoded data removed]",
      "text/plain": [
       "<Figure size 864x432 with 1 Axes>"
      ]
     },
     "metadata": {
      "needs_background": "light"
     },
     "output_type": "display_data"
    }
   ],
   "source": [
    "plt.figure(figsize=(12,6))\n",
    "plt.plot(df.Close)\n",
    "plt.plot(avg100, 'r')\n",
    "plt.plot(avg200, 'g')"
   ]
  },
  {
   "cell_type": "code",
   "execution_count": 13,
   "id": "3eafc4df",
   "metadata": {},
   "outputs": [
    {
     "data": {
      "text/plain": [
       "(1938, 1)"
      ]
     },
     "execution_count": 13,
     "metadata": {},
     "output_type": "execute_result"
    }
   ],
   "source": [
    "data_train = pd.DataFrame(df['Close'][0:int(len(df)*0.7)])\n",
    "data_test = pd.DataFrame(df['Close'][int(len(df)*0.7):int(len(df))])\n",
    "\n",
    "data_train.shape"
   ]
  },
  {
   "cell_type": "code",
   "execution_count": 14,
   "id": "1314d349",
   "metadata": {},
   "outputs": [
    {
     "data": {
      "text/plain": [
       "(832, 1)"
      ]
     },
     "execution_count": 14,
     "metadata": {},
     "output_type": "execute_result"
    }
   ],
   "source": [
    "data_test.shape"
   ]
  },
  {
   "cell_type": "code",
   "execution_count": 15,
   "id": "c7e726fd",
   "metadata": {},
   "outputs": [],
   "source": [
    "from sklearn.preprocessing import MinMaxScaler\n",
    "scaler = MinMaxScaler(feature_range=(0,1))"
   ]
  },
  {
   "cell_type": "code",
   "execution_count": 17,
   "id": "8d7ac981",
   "metadata": {},
   "outputs": [
    {
     "data": {
      "text/plain": [
       "array([[0.00564215],\n",
       "       [0.01110504],\n",
       "       [0.01244545],\n",
       "       ...,\n",
       "       [0.94528523],\n",
       "       [0.97539747],\n",
       "       [0.96023227]])"
      ]
     },
     "execution_count": 17,
     "metadata": {},
     "output_type": "execute_result"
    }
   ],
   "source": [
    "data_train_scaled = scaler.fit_transform(data_train)\n",
    "data_train_scaled"
   ]
  },
  {
   "cell_type": "code",
   "execution_count": 20,
   "id": "48b748e1",
   "metadata": {},
   "outputs": [],
   "source": [
    "x_train = []\n",
    "y_train = []\n",
    "\n",
    "for i in range(100, data_train_scaled.shape[0]):\n",
    "    x_train.append(data_train_scaled[i-100:i])\n",
    "    y_train.append(data_train_scaled[i,0])\n",
    "    \n",
    "x_train, y_train = np.array(x_train), np.array(y_train)"
   ]
  },
  {
   "cell_type": "code",
   "execution_count": 21,
   "id": "ac0b4a28",
   "metadata": {},
   "outputs": [],
   "source": [
    "from keras.layers import Dense, Dropout, LSTM\n",
    "from keras.models import Sequential"
   ]
  },
  {
   "cell_type": "code",
   "execution_count": 22,
   "id": "86b918e1",
   "metadata": {},
   "outputs": [],
   "source": [
    "model = Sequential()\n",
    "model.add(LSTM(units=50, activation='relu', return_sequences=True, input_shape=(x_train.shape[1],1)))\n",
    "model.add(Dropout(0.2))\n",
    "\n",
    "model.add(LSTM(units=60, activation='relu', return_sequences=True))\n",
    "model.add(Dropout(0.3))\n",
    "\n",
    "model.add(LSTM(units=80, activation='relu', return_sequences=True))\n",
    "model.add(Dropout(0.4))\n",
    "\n",
    "model.add(LSTM(units=120, activation='relu'))\n",
    "model.add(Dropout(0.5))\n",
    "\n",
    "model.add(Dense(units=1))"
   ]
  },
  {
   "cell_type": "code",
   "execution_count": 24,
   "id": "28a76209",
   "metadata": {},
   "outputs": [
    {
     "name": "stdout",
     "output_type": "stream",
     "text": [
      "Model: \"sequential\"\n",
      "_________________________________________________________________\n",
      " Layer (type)                Output Shape              Param #   \n",
      "=================================================================\n",
      " lstm (LSTM)                 (None, 100, 50)           10400     \n",
      "                                                                 \n",
      " dropout (Dropout)           (None, 100, 50)           0         \n",
      "                                                                 \n",
      " lstm_1 (LSTM)               (None, 100, 60)           26640     \n",
      "                                                                 \n",
      " dropout_1 (Dropout)         (None, 100, 60)           0         \n",
      "                                                                 \n",
      " lstm_2 (LSTM)               (None, 100, 80)           45120     \n",
      "                                                                 \n",
      " dropout_2 (Dropout)         (None, 100, 80)           0         \n",
      "                                                                 \n",
      " lstm_3 (LSTM)               (None, 120)               96480     \n",
      "                                                                 \n",
      " dropout_3 (Dropout)         (None, 120)               0         \n",
      "                                                                 \n",
      " dense (Dense)               (None, 1)                 121       \n",
      "                                                                 \n",
      "=================================================================\n",
      "Total params: 178,761\n",
      "Trainable params: 178,761\n",
      "Non-trainable params: 0\n",
      "_________________________________________________________________\n"
     ]
    }
   ],
   "source": [
    "model.summary()"
   ]
  },
  {
   "cell_type": "code",
   "execution_count": 25,
   "id": "af80d5c9",
   "metadata": {},
   "outputs": [
    {
     "name": "stdout",
     "output_type": "stream",
     "text": [
      "Epoch 1/100\n",
      "58/58 [==============================] - 18s 229ms/step - loss: 0.0326\n",
      "Epoch 2/100\n",
      "58/58 [==============================] - 12s 215ms/step - loss: 0.0064\n",
      "Epoch 3/100\n",
      "58/58 [==============================] - 13s 219ms/step - loss: 0.0052\n",
      "Epoch 4/100\n",
      "58/58 [==============================] - 13s 217ms/step - loss: 0.0043\n",
      "Epoch 5/100\n",
      "58/58 [==============================] - 12s 213ms/step - loss: 0.0053\n",
      "Epoch 6/100\n",
      "58/58 [==============================] - 12s 206ms/step - loss: 0.0045\n",
      "Epoch 7/100\n",
      "58/58 [==============================] - 13s 217ms/step - loss: 0.0041\n",
      "Epoch 8/100\n",
      "58/58 [==============================] - 13s 219ms/step - loss: 0.0043\n",
      "Epoch 9/100\n",
      "58/58 [==============================] - 13s 219ms/step - loss: 0.0041\n",
      "Epoch 10/100\n",
      "58/58 [==============================] - 13s 218ms/step - loss: 0.0034\n",
      "Epoch 11/100\n",
      "58/58 [==============================] - 13s 218ms/step - loss: 0.0033\n",
      "Epoch 12/100\n",
      "58/58 [==============================] - 13s 218ms/step - loss: 0.0037\n",
      "Epoch 13/100\n",
      "58/58 [==============================] - 13s 216ms/step - loss: 0.0032\n",
      "Epoch 14/100\n",
      "58/58 [==============================] - 13s 221ms/step - loss: 0.0031\n",
      "Epoch 15/100\n",
      "58/58 [==============================] - 13s 217ms/step - loss: 0.0034\n",
      "Epoch 16/100\n",
      "58/58 [==============================] - 13s 220ms/step - loss: 0.0029\n",
      "Epoch 17/100\n",
      "58/58 [==============================] - 13s 222ms/step - loss: 0.0030\n",
      "Epoch 18/100\n",
      "58/58 [==============================] - 13s 218ms/step - loss: 0.0029\n",
      "Epoch 19/100\n",
      "58/58 [==============================] - 13s 219ms/step - loss: 0.0035\n",
      "Epoch 20/100\n",
      "58/58 [==============================] - 13s 218ms/step - loss: 0.0028\n",
      "Epoch 21/100\n",
      "58/58 [==============================] - 13s 220ms/step - loss: 0.0027\n",
      "Epoch 22/100\n",
      "58/58 [==============================] - 12s 208ms/step - loss: 0.0025\n",
      "Epoch 23/100\n",
      "58/58 [==============================] - 12s 209ms/step - loss: 0.0026\n",
      "Epoch 24/100\n",
      "58/58 [==============================] - 12s 212ms/step - loss: 0.0028\n",
      "Epoch 25/100\n",
      "58/58 [==============================] - 13s 216ms/step - loss: 0.0023\n",
      "Epoch 26/100\n",
      "58/58 [==============================] - 13s 219ms/step - loss: 0.0025\n",
      "Epoch 27/100\n",
      "58/58 [==============================] - 12s 214ms/step - loss: 0.0023\n",
      "Epoch 28/100\n",
      "58/58 [==============================] - 12s 211ms/step - loss: 0.0023\n",
      "Epoch 29/100\n",
      "58/58 [==============================] - 13s 219ms/step - loss: 0.0022\n",
      "Epoch 30/100\n",
      "58/58 [==============================] - 12s 207ms/step - loss: 0.0022\n",
      "Epoch 31/100\n",
      "58/58 [==============================] - 12s 213ms/step - loss: 0.0024\n",
      "Epoch 32/100\n",
      "58/58 [==============================] - 12s 212ms/step - loss: 0.0022\n",
      "Epoch 33/100\n",
      "58/58 [==============================] - 13s 219ms/step - loss: 0.0021\n",
      "Epoch 34/100\n",
      "58/58 [==============================] - 12s 208ms/step - loss: 0.00201s - los\n",
      "Epoch 35/100\n",
      "58/58 [==============================] - 12s 209ms/step - loss: 0.0019\n",
      "Epoch 36/100\n",
      "58/58 [==============================] - 12s 209ms/step - loss: 0.0022\n",
      "Epoch 37/100\n",
      "58/58 [==============================] - 13s 220ms/step - loss: 0.0018\n",
      "Epoch 38/100\n",
      "58/58 [==============================] - 13s 217ms/step - loss: 0.0017\n",
      "Epoch 39/100\n",
      "58/58 [==============================] - 13s 222ms/step - loss: 0.0020\n",
      "Epoch 40/100\n",
      "58/58 [==============================] - 12s 209ms/step - loss: 0.0019\n",
      "Epoch 41/100\n",
      "58/58 [==============================] - 13s 221ms/step - loss: 0.0021\n",
      "Epoch 42/100\n",
      "58/58 [==============================] - 13s 223ms/step - loss: 0.0019\n",
      "Epoch 43/100\n",
      "58/58 [==============================] - 13s 220ms/step - loss: 0.0018\n",
      "Epoch 44/100\n",
      "58/58 [==============================] - 12s 213ms/step - loss: 0.0017\n",
      "Epoch 45/100\n",
      "58/58 [==============================] - 12s 215ms/step - loss: 0.0018\n",
      "Epoch 46/100\n",
      "58/58 [==============================] - 13s 218ms/step - loss: 0.0018\n",
      "Epoch 47/100\n",
      "58/58 [==============================] - 13s 218ms/step - loss: 0.0017\n",
      "Epoch 48/100\n",
      "58/58 [==============================] - 13s 216ms/step - loss: 0.0016\n",
      "Epoch 49/100\n",
      "58/58 [==============================] - 12s 204ms/step - loss: 0.0017\n",
      "Epoch 50/100\n",
      "58/58 [==============================] - 12s 211ms/step - loss: 0.0017\n",
      "Epoch 51/100\n",
      "58/58 [==============================] - 13s 218ms/step - loss: 0.0016\n",
      "Epoch 52/100\n",
      "58/58 [==============================] - 13s 219ms/step - loss: 0.0016\n",
      "Epoch 53/100\n",
      "58/58 [==============================] - 13s 220ms/step - loss: 0.0017\n",
      "Epoch 54/100\n",
      "58/58 [==============================] - 12s 208ms/step - loss: 0.0016\n",
      "Epoch 55/100\n",
      "58/58 [==============================] - 12s 208ms/step - loss: 0.0015\n",
      "Epoch 56/100\n",
      "58/58 [==============================] - 12s 211ms/step - loss: 0.0017\n",
      "Epoch 57/100\n",
      "58/58 [==============================] - 12s 215ms/step - loss: 0.0017\n",
      "Epoch 58/100\n",
      "58/58 [==============================] - 13s 220ms/step - loss: 0.0016\n",
      "Epoch 59/100\n",
      "58/58 [==============================] - 13s 220ms/step - loss: 0.0017\n",
      "Epoch 60/100\n",
      "58/58 [==============================] - 13s 220ms/step - loss: 0.0017\n",
      "Epoch 61/100\n",
      "58/58 [==============================] - 13s 218ms/step - loss: 0.0018\n",
      "Epoch 62/100\n",
      "58/58 [==============================] - 12s 214ms/step - loss: 0.0016\n",
      "Epoch 63/100\n",
      "58/58 [==============================] - 13s 219ms/step - loss: 0.0017\n",
      "Epoch 64/100\n",
      "58/58 [==============================] - 12s 215ms/step - loss: 0.0017\n",
      "Epoch 65/100\n",
      "58/58 [==============================] - 13s 219ms/step - loss: 0.0017\n",
      "Epoch 66/100\n",
      "58/58 [==============================] - 13s 217ms/step - loss: 0.0015\n",
      "Epoch 67/100\n",
      "58/58 [==============================] - 13s 220ms/step - loss: 0.0017\n",
      "Epoch 68/100\n",
      "58/58 [==============================] - 13s 220ms/step - loss: 0.0016\n",
      "Epoch 69/100\n",
      "58/58 [==============================] - 12s 214ms/step - loss: 0.0016\n",
      "Epoch 70/100\n",
      "58/58 [==============================] - 12s 204ms/step - loss: 0.0017\n",
      "Epoch 71/100\n",
      "58/58 [==============================] - 13s 215ms/step - loss: 0.0016\n",
      "Epoch 72/100\n",
      "58/58 [==============================] - 13s 219ms/step - loss: 0.0016\n",
      "Epoch 73/100\n",
      "58/58 [==============================] - 12s 212ms/step - loss: 0.0017\n",
      "Epoch 74/100\n",
      "58/58 [==============================] - 13s 218ms/step - loss: 0.0016\n",
      "Epoch 75/100\n",
      "58/58 [==============================] - 13s 221ms/step - loss: 0.0016\n",
      "Epoch 76/100\n",
      "58/58 [==============================] - 13s 218ms/step - loss: 0.0016\n",
      "Epoch 77/100\n",
      "58/58 [==============================] - 13s 219ms/step - loss: 0.0015\n",
      "Epoch 78/100\n",
      "58/58 [==============================] - 13s 219ms/step - loss: 0.0017\n",
      "Epoch 79/100\n",
      "58/58 [==============================] - 13s 220ms/step - loss: 0.0015\n",
      "Epoch 80/100\n",
      "58/58 [==============================] - 13s 221ms/step - loss: 0.0015\n",
      "Epoch 81/100\n",
      "58/58 [==============================] - 13s 219ms/step - loss: 0.0016\n",
      "Epoch 82/100\n",
      "58/58 [==============================] - 13s 217ms/step - loss: 0.0016\n",
      "Epoch 83/100\n",
      "58/58 [==============================] - 13s 216ms/step - loss: 0.0014\n",
      "Epoch 84/100\n",
      "58/58 [==============================] - 13s 218ms/step - loss: 0.0016\n",
      "Epoch 85/100\n",
      "58/58 [==============================] - 13s 216ms/step - loss: 0.0017\n",
      "Epoch 86/100\n",
      "58/58 [==============================] - 12s 215ms/step - loss: 0.0017\n",
      "Epoch 87/100\n",
      "58/58 [==============================] - 13s 220ms/step - loss: 0.0016\n",
      "Epoch 88/100\n",
      "58/58 [==============================] - 13s 222ms/step - loss: 0.0015\n",
      "Epoch 89/100\n",
      "58/58 [==============================] - 13s 219ms/step - loss: 0.0015\n",
      "Epoch 90/100\n",
      "58/58 [==============================] - 13s 222ms/step - loss: 0.0015\n",
      "Epoch 91/100\n",
      "58/58 [==============================] - 12s 202ms/step - loss: 0.0015\n",
      "Epoch 92/100\n",
      "58/58 [==============================] - 12s 211ms/step - loss: 0.0015\n",
      "Epoch 93/100\n",
      "58/58 [==============================] - 13s 222ms/step - loss: 0.0015\n",
      "Epoch 94/100\n",
      "58/58 [==============================] - 13s 220ms/step - loss: 0.0015\n",
      "Epoch 95/100\n",
      "58/58 [==============================] - 13s 220ms/step - loss: 0.0014\n",
      "Epoch 96/100\n",
      "58/58 [==============================] - 13s 220ms/step - loss: 0.0015\n",
      "Epoch 97/100\n",
      "58/58 [==============================] - 12s 215ms/step - loss: 0.0016\n",
      "Epoch 98/100\n",
      "58/58 [==============================] - 12s 200ms/step - loss: 0.0016\n",
      "Epoch 99/100\n",
      "58/58 [==============================] - 12s 208ms/step - loss: 0.00150s - loss: 0.00\n",
      "Epoch 100/100\n",
      "58/58 [==============================] - 12s 206ms/step - loss: 0.0016\n"
     ]
    },
    {
     "data": {
      "text/plain": [
       "<keras.callbacks.History at 0x15bf41db820>"
      ]
     },
     "execution_count": 25,
     "metadata": {},
     "output_type": "execute_result"
    }
   ],
   "source": [
    "model.compile(optimizer='adam', loss = 'mean_squared_error')\n",
    "model.fit(x_train, y_train, epochs=100)"
   ]
  },
  {
   "cell_type": "code",
   "execution_count": 26,
   "id": "3a8ce6b9",
   "metadata": {},
   "outputs": [],
   "source": [
    "model.save('LSTM_model.h5')"
   ]
  },
  {
   "cell_type": "code",
   "execution_count": 28,
   "id": "71e995fd",
   "metadata": {},
   "outputs": [
    {
     "data": {
      "text/html": [
       "<div>\n",
       "<style scoped>\n",
       "    .dataframe tbody tr th:only-of-type {\n",
       "        vertical-align: middle;\n",
       "    }\n",
       "\n",
       "    .dataframe tbody tr th {\n",
       "        vertical-align: top;\n",
       "    }\n",
       "\n",
       "    .dataframe thead th {\n",
       "        text-align: right;\n",
       "    }\n",
       "</style>\n",
       "<table border=\"1\" class=\"dataframe\">\n",
       "  <thead>\n",
       "    <tr style=\"text-align: right;\">\n",
       "      <th></th>\n",
       "      <th>Close</th>\n",
       "    </tr>\n",
       "  </thead>\n",
       "  <tbody>\n",
       "    <tr>\n",
       "      <th>1938</th>\n",
       "      <td>56.602501</td>\n",
       "    </tr>\n",
       "    <tr>\n",
       "      <th>1939</th>\n",
       "      <td>55.959999</td>\n",
       "    </tr>\n",
       "    <tr>\n",
       "      <th>1940</th>\n",
       "      <td>54.470001</td>\n",
       "    </tr>\n",
       "    <tr>\n",
       "      <th>1941</th>\n",
       "      <td>54.560001</td>\n",
       "    </tr>\n",
       "    <tr>\n",
       "      <th>1942</th>\n",
       "      <td>54.592499</td>\n",
       "    </tr>\n",
       "  </tbody>\n",
       "</table>\n",
       "</div>"
      ],
      "text/plain": [
       "          Close\n",
       "1938  56.602501\n",
       "1939  55.959999\n",
       "1940  54.470001\n",
       "1941  54.560001\n",
       "1942  54.592499"
      ]
     },
     "execution_count": 28,
     "metadata": {},
     "output_type": "execute_result"
    }
   ],
   "source": [
    "data_test.head()"
   ]
  },
  {
   "cell_type": "code",
   "execution_count": 29,
   "id": "9bce12dd",
   "metadata": {},
   "outputs": [],
   "source": [
    "prev_100_days = data_train.tail(100)"
   ]
  },
  {
   "cell_type": "code",
   "execution_count": 30,
   "id": "598ff2e7",
   "metadata": {},
   "outputs": [
    {
     "data": {
      "text/html": [
       "<div>\n",
       "<style scoped>\n",
       "    .dataframe tbody tr th:only-of-type {\n",
       "        vertical-align: middle;\n",
       "    }\n",
       "\n",
       "    .dataframe tbody tr th {\n",
       "        vertical-align: top;\n",
       "    }\n",
       "\n",
       "    .dataframe thead th {\n",
       "        text-align: right;\n",
       "    }\n",
       "</style>\n",
       "<table border=\"1\" class=\"dataframe\">\n",
       "  <thead>\n",
       "    <tr style=\"text-align: right;\">\n",
       "      <th></th>\n",
       "      <th>Close</th>\n",
       "    </tr>\n",
       "  </thead>\n",
       "  <tbody>\n",
       "    <tr>\n",
       "      <th>0</th>\n",
       "      <td>41.310001</td>\n",
       "    </tr>\n",
       "    <tr>\n",
       "      <th>1</th>\n",
       "      <td>40.735001</td>\n",
       "    </tr>\n",
       "    <tr>\n",
       "      <th>2</th>\n",
       "      <td>40.912498</td>\n",
       "    </tr>\n",
       "    <tr>\n",
       "      <th>3</th>\n",
       "      <td>41.055000</td>\n",
       "    </tr>\n",
       "    <tr>\n",
       "      <th>4</th>\n",
       "      <td>40.580002</td>\n",
       "    </tr>\n",
       "  </tbody>\n",
       "</table>\n",
       "</div>"
      ],
      "text/plain": [
       "       Close\n",
       "0  41.310001\n",
       "1  40.735001\n",
       "2  40.912498\n",
       "3  41.055000\n",
       "4  40.580002"
      ]
     },
     "execution_count": 30,
     "metadata": {},
     "output_type": "execute_result"
    }
   ],
   "source": [
    "test_df = prev_100_days.append(data_test, ignore_index=True)\n",
    "test_df.head()"
   ]
  },
  {
   "cell_type": "code",
   "execution_count": 31,
   "id": "bbff8122",
   "metadata": {},
   "outputs": [],
   "source": [
    "test_data_scaled = scaler.fit_transform(test_df)"
   ]
  },
  {
   "cell_type": "code",
   "execution_count": 32,
   "id": "5ce4f91e",
   "metadata": {},
   "outputs": [
    {
     "data": {
      "text/plain": [
       "(932, 1)"
      ]
     },
     "execution_count": 32,
     "metadata": {},
     "output_type": "execute_result"
    }
   ],
   "source": [
    "test_data_scaled.shape"
   ]
  },
  {
   "cell_type": "code",
   "execution_count": 58,
   "id": "a3cc20c0",
   "metadata": {},
   "outputs": [],
   "source": [
    "x_test = []\n",
    "y_test = []\n",
    "\n",
    "for i in range(100, test_data_scaled.shape[0]):\n",
    "    x_test.append(test_data_scaled[i-100:i])\n",
    "    y_test.append(test_data_scaled[i,0])\n",
    "    \n",
    "x_test, y_test = np.array(x_train), np.array(y_train)"
   ]
  },
  {
   "cell_type": "code",
   "execution_count": 36,
   "id": "7ed96cba",
   "metadata": {},
   "outputs": [
    {
     "name": "stdout",
     "output_type": "stream",
     "text": [
      "(1838, 100, 1)\n",
      "(1838,)\n"
     ]
    }
   ],
   "source": [
    "print(x_test.shape)\n",
    "print(y_test.shape)"
   ]
  },
  {
   "cell_type": "code",
   "execution_count": 59,
   "id": "304a4c53",
   "metadata": {},
   "outputs": [
    {
     "data": {
      "text/plain": [
       "array([0.00690691])"
      ]
     },
     "execution_count": 59,
     "metadata": {},
     "output_type": "execute_result"
    }
   ],
   "source": [
    "y_predictions = model.predict(x_test)\n",
    "scaler.scale_"
   ]
  },
  {
   "cell_type": "code",
   "execution_count": 60,
   "id": "8dbbb417",
   "metadata": {},
   "outputs": [],
   "source": [
    "scf = 1/0.00690691\n",
    "y_predictions = y_predictions*scf\n",
    "y_test = y_test*scf"
   ]
  },
  {
   "cell_type": "code",
   "execution_count": 61,
   "id": "6d7c2a16",
   "metadata": {},
   "outputs": [
    {
     "data": {
      "text/plain": [
       "array([[ 16.333397],\n",
       "       [ 16.25852 ],\n",
       "       [ 16.190634],\n",
       "       ...,\n",
       "       [135.46379 ],\n",
       "       [134.84294 ],\n",
       "       [134.36517 ]], dtype=float32)"
      ]
     },
     "execution_count": 61,
     "metadata": {},
     "output_type": "execute_result"
    }
   ],
   "source": [
    "y_predictions"
   ]
  },
  {
   "cell_type": "code",
   "execution_count": 62,
   "id": "66e0e28b",
   "metadata": {},
   "outputs": [
    {
     "data": {
      "text/plain": [
       "array([  2.42131473,   2.22048002,   2.4923973 , ..., 136.86080041,\n",
       "       141.22052753, 139.02487052])"
      ]
     },
     "execution_count": 62,
     "metadata": {},
     "output_type": "execute_result"
    }
   ],
   "source": [
    "y_test"
   ]
  },
  {
   "cell_type": "code",
   "execution_count": 63,
   "id": "52d0e209",
   "metadata": {},
   "outputs": [
    {
     "data": {
      "image/png": "[encoded data removed]",
      "text/plain": [
       "<Figure size 864x432 with 1 Axes>"
      ]
     },
     "metadata": {
      "needs_background": "light"
     },
     "output_type": "display_data"
    }
   ],
   "source": [
    "plt.figure(figsize=(12,6))\n",
    "plt.plot(y_test, 'b', label='Original Price')\n",
    "plt.plot(y_predictions, 'r', label='Predicted Price')\n",
    "plt.xlabel('Time')\n",
    "plt.ylabel('Price')\n",
    "plt.legend()\n",
    "plt.show()"
   ]
  },
  {
   "cell_type": "code",
   "execution_count": null,
   "id": "c3efda7c",
   "metadata": {},
   "outputs": [],
   "source": []
  }
 ],
 "metadata": {
  "kernelspec": {
   "display_name": "Python 3 (ipykernel)",
   "language": "python",
   "name": "python3"
  },
  "language_info": {
   "codemirror_mode": {
    "name": "ipython",
    "version": 3
   },
   "file_extension": ".py",
   "mimetype": "text/x-python",
   "name": "python",
   "nbconvert_exporter": "python",
   "pygments_lexer": "ipython3",
   "version": "3.9.7"
  }
 },
 "nbformat": 4,
 "nbformat_minor": 5
}
